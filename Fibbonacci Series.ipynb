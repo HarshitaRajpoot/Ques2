{
 "cells": [
  {
   "cell_type": "code",
   "execution_count": 3,
   "metadata": {},
   "outputs": [
    {
     "name": "stdout",
     "output_type": "stream",
     "text": [
      "Enter how many numbers needed in Fibonacci series- 15\n",
      "0 1 1 2 3 5 8 13 21 34 55 89 144 233 377 "
     ]
    }
   ],
   "source": [
    "def fibonacci(num):\n",
    "    num1 = 0\n",
    "    num2 = 1\n",
    "    series = 0\n",
    "    for i in range(num):\n",
    "        print(series, end=' ');\n",
    "        num1 = num2;\n",
    "        num2 = series;\n",
    "        series = num1 + num2;\n",
    " \n",
    " \n",
    "# running function after takking user input\n",
    "num = int(input('Enter how many numbers needed in Fibonacci series- '))\n",
    "fibonacci(num)"
   ]
  },
  {
   "cell_type": "code",
   "execution_count": null,
   "metadata": {},
   "outputs": [],
   "source": []
  },
  {
   "cell_type": "code",
   "execution_count": null,
   "metadata": {},
   "outputs": [],
   "source": []
  }
 ],
 "metadata": {
  "kernelspec": {
   "display_name": "Python 3",
   "language": "python",
   "name": "python3"
  },
  "language_info": {
   "codemirror_mode": {
    "name": "ipython",
    "version": 3
   },
   "file_extension": ".py",
   "mimetype": "text/x-python",
   "name": "python",
   "nbconvert_exporter": "python",
   "pygments_lexer": "ipython3",
   "version": "3.8.5"
  }
 },
 "nbformat": 4,
 "nbformat_minor": 4
}
